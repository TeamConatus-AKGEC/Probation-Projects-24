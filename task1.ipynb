{
 "cells": [
  {
   "cell_type": "code",
   "execution_count": 1,
   "id": "7af57db1",
   "metadata": {},
   "outputs": [
    {
     "name": "stdout",
     "output_type": "stream",
     "text": [
      "Enter you choice(rock,paper or scissors?)rock\n",
      "User Inputs : rock & Code randomly picks : paper\n",
      "Paper covers Rock!!!Oops YOU LOST\n",
      "Want to play again?(yes or no)yes\n",
      "Enter you choice(rock,paper or scissors?)paper\n",
      "User Inputs : paper & Code randomly picks : rock\n",
      "Paper covers Rock!!!Yeah YOU WON\n",
      "Want to play again?(yes or no)yes\n",
      "Enter you choice(rock,paper or scissors?)scissors\n",
      "User Inputs : scissors & Code randomly picks : scissors\n",
      "Both players chose -  scissors IT'S A TIE!!\n",
      "Want to play again?(yes or no)no\n"
     ]
    }
   ],
   "source": [
    "import random\n",
    "\n",
    "while True :\n",
    "    user_input=input(\"Enter you choice(rock,paper or scissors?)\")\n",
    "    options=[\"rock\",\"paper\",\"scissors\"]\n",
    "    comp_input=random.choice(options)\n",
    "    print(\"User Inputs :\",user_input,\"&\",\"Code randomly picks :\",comp_input)\n",
    "    \n",
    "    if user_input == comp_input :\n",
    "        print(\"Both players chose - \",user_input,\"IT'S A TIE!!\")\n",
    "    elif user_input == \"rock\" :\n",
    "        if comp_input == \"paper\" :\n",
    "            print(\"Paper covers Rock!!!Oops YOU LOST\")\n",
    "        else :\n",
    "            print(\"Rock breaks Scissors!!!Yeah YOU WON\")\n",
    "    elif user_input == \"paper\" :\n",
    "        if comp_input == \"rock\" :\n",
    "            print(\"Paper covers Rock!!!Yeah YOU WON\")\n",
    "        else :\n",
    "            print(\"Scissors cut Paper!!!Oops YOU LOST\")\n",
    "    elif user_input == \"scissors\" :\n",
    "        if comp_input == \"rock\" :\n",
    "            print(\"Rock breaks Scissors!!!Oops YOU LOST\")\n",
    "        else :\n",
    "            print(\"Scissors cut Paper!!!Yeah YOU WON\")\n",
    "            \n",
    "    chance = input(\"Want to play again?(yes or no)\")\n",
    "    if chance != \"yes\":\n",
    "        break"
   ]
  },
  {
   "cell_type": "code",
   "execution_count": null,
   "id": "bbba3a09",
   "metadata": {},
   "outputs": [],
   "source": [
    "\n"
   ]
  },
  {
   "cell_type": "code",
   "execution_count": null,
   "id": "314eb436",
   "metadata": {},
   "outputs": [],
   "source": []
  }
 ],
 "metadata": {
  "kernelspec": {
   "display_name": "Python 3 (ipykernel)",
   "language": "python",
   "name": "python3"
  },
  "language_info": {
   "codemirror_mode": {
    "name": "ipython",
    "version": 3
   },
   "file_extension": ".py",
   "mimetype": "text/x-python",
   "name": "python",
   "nbconvert_exporter": "python",
   "pygments_lexer": "ipython3",
   "version": "3.11.5"
  }
 },
 "nbformat": 4,
 "nbformat_minor": 5
}
