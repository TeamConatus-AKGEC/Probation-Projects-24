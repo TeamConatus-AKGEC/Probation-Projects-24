{
 "cells": [
  {
   "attachments": {
    "numpy.png": {
     "image/png": "[encoded data removed]"
    }
   },
   "cell_type": "markdown",
   "id": "07ae29b9",
   "metadata": {},
   "source": [
    "![numpy.png](attachment:numpy.png)"
   ]
  },
  {
   "cell_type": "markdown",
   "id": "54a20fe8",
   "metadata": {},
   "source": [
    "Create a 1D numpy array of numbers from 1 to 10. What is the result of adding 5 to each element?"
   ]
  },
  {
   "cell_type": "code",
   "execution_count": 1,
   "id": "d72556d6",
   "metadata": {},
   "outputs": [],
   "source": [
    "import numpy as np"
   ]
  },
  {
   "cell_type": "code",
   "execution_count": 2,
   "id": "bdce307e",
   "metadata": {},
   "outputs": [],
   "source": [
    "arr = np.array([1,2,3,4,5,6,7,8,9,10])"
   ]
  },
  {
   "cell_type": "code",
   "execution_count": 3,
   "id": "19ade15a",
   "metadata": {},
   "outputs": [
    {
     "name": "stdout",
     "output_type": "stream",
     "text": [
      "[ 1  2  3  4  5  6  7  8  9 10]\n"
     ]
    }
   ],
   "source": [
    "print(arr)"
   ]
  },
  {
   "cell_type": "code",
   "execution_count": 4,
   "id": "ddf0a1e1",
   "metadata": {},
   "outputs": [],
   "source": [
    "result = arr+5"
   ]
  },
  {
   "cell_type": "code",
   "execution_count": 5,
   "id": "12e924d2",
   "metadata": {},
   "outputs": [
    {
     "name": "stdout",
     "output_type": "stream",
     "text": [
      "[ 6  7  8  9 10 11 12 13 14 15]\n"
     ]
    }
   ],
   "source": [
    "print(result)"
   ]
  },
  {
   "cell_type": "markdown",
   "id": "8eabb9e4",
   "metadata": {},
   "source": [
    "Create a 3x3 identity matrix using numpy?"
   ]
  },
  {
   "cell_type": "code",
   "execution_count": 6,
   "id": "83c0e11e",
   "metadata": {},
   "outputs": [],
   "source": [
    "arr_2d = np.identity(3)"
   ]
  },
  {
   "cell_type": "code",
   "execution_count": 7,
   "id": "9c8c2db3",
   "metadata": {},
   "outputs": [
    {
     "name": "stdout",
     "output_type": "stream",
     "text": [
      "[[1. 0. 0.]\n",
      " [0. 1. 0.]\n",
      " [0. 0. 1.]]\n"
     ]
    }
   ],
   "source": [
    "print(arr_2d)"
   ]
  },
  {
   "cell_type": "markdown",
   "id": "dcd57372",
   "metadata": {},
   "source": [
    "Given the array arr = np.array([[1, 2, 3], [4, 5, 6], [7, 8, 9]]), how would you access the element in the second row and third column?"
   ]
  },
  {
   "cell_type": "code",
   "execution_count": 8,
   "id": "863a4436",
   "metadata": {},
   "outputs": [],
   "source": [
    "arr = np.array([[1, 2, 3], [4, 5, 6], [7, 8, 9]])"
   ]
  },
  {
   "cell_type": "code",
   "execution_count": 9,
   "id": "36b811c0",
   "metadata": {},
   "outputs": [
    {
     "name": "stdout",
     "output_type": "stream",
     "text": [
      "No element exist at such index!!!!!!\n"
     ]
    }
   ],
   "source": [
    "try :\n",
    "    print(\"element in the second row and third column is :\",arr[2][3])\n",
    "except IndexError :\n",
    "    print(\"No element exist at such index!!!!!!\")"
   ]
  },
  {
   "cell_type": "markdown",
   "id": "2054751f",
   "metadata": {},
   "source": [
    "How can you reshape a 1D array of shape (12,) into a 3D array of shape (2, 2, 3)?"
   ]
  },
  {
   "cell_type": "code",
   "execution_count": 10,
   "id": "c48fc502",
   "metadata": {},
   "outputs": [
    {
     "name": "stdout",
     "output_type": "stream",
     "text": [
      "[[[ 1  2  3]\n",
      "  [ 4  5  6]]\n",
      "\n",
      " [[ 7  8  9]\n",
      "  [10 11 12]]]\n"
     ]
    }
   ],
   "source": [
    "arr_1d = np.array([1, 2, 3, 4, 5, 6, 7, 8, 9, 10, 11, 12])\n",
    "arr_3d = arr_1d.reshape(2,2,3)\n",
    "print(arr_3d)"
   ]
  },
  {
   "cell_type": "markdown",
   "id": "ef25588e",
   "metadata": {},
   "source": [
    "How can you create a new array that contains only the even numbers from the array arr = np.array([1, 2, 3, 4, 5, 6])?"
   ]
  },
  {
   "cell_type": "code",
   "execution_count": 11,
   "id": "f1a03cef",
   "metadata": {},
   "outputs": [
    {
     "name": "stdout",
     "output_type": "stream",
     "text": [
      "[2 4 6]\n"
     ]
    }
   ],
   "source": [
    "arr = np.array([1, 2, 3, 4, 5, 6])\n",
    "l=[]\n",
    "for i in arr :\n",
    "    if i%2 == 0 :\n",
    "        l.append(i)\n",
    "        new_arr = np.array(l)\n",
    "print(new_arr)"
   ]
  },
  {
   "attachments": {
    "pandas.png": {
     "image/png": "[encoded data removed]"
    }
   },
   "cell_type": "markdown",
   "id": "b7edffde",
   "metadata": {},
   "source": [
    "![pandas.png](attachment:pandas.png)"
   ]
  },
  {
   "cell_type": "markdown",
   "id": "fc4bb5f9",
   "metadata": {},
   "source": [
    "Create a Dictionary with 10 key value pairs. Now convert this Dictionary to Dataframe using Pandas."
   ]
  },
  {
   "cell_type": "code",
   "execution_count": 12,
   "id": "d276bd25",
   "metadata": {},
   "outputs": [],
   "source": [
    "import pandas as pd"
   ]
  },
  {
   "cell_type": "code",
   "execution_count": 13,
   "id": "98f336cc",
   "metadata": {},
   "outputs": [],
   "source": [
    "d = {\n",
    "    \"old_name\":[\"max\",\"sam\",\"jeany\",\"rohit\"],\n",
    "    \"age\":[12,56,32,40],\n",
    "    \"gender\":[\"M\",\"M\",\"F\",\"M\"],\n",
    "    \"date-of-birth\":[\"22-9-2012\",\"12-02-1968\",\"16-10-1992\",\"31-03-1984\"],\n",
    "    \"phone_no\":[\"89346229\",\"63256228\",\"8723415163\",\"934782562\"],\n",
    "    \"city\":[\"jaipur\",\"agra\",\"kanpur\",\"hydrabad\"],\n",
    "    \"email\":[\"max@gmail.com\",\"sam@gmail.com\",\"jeany@gmail.com\",\"rohit@gmail.com\"],\n",
    "    \"language\":[\"english\",\"french\",\"hindi\",\"hindi\"],\n",
    "    \"marks\":[55,12,89,63],\n",
    "    \"salary\":[1000,50000,np.nan,28000]\n",
    "}"
   ]
  },
  {
   "cell_type": "code",
   "execution_count": 14,
   "id": "8520d557",
   "metadata": {},
   "outputs": [],
   "source": [
    "df = pd.DataFrame(d)"
   ]
  },
  {
   "cell_type": "code",
   "execution_count": 15,
   "id": "3cee35bc",
   "metadata": {},
   "outputs": [
    {
     "data": {
      "text/html": [
       "<div>\n",
       "<style scoped>\n",
       "    .dataframe tbody tr th:only-of-type {\n",
       "        vertical-align: middle;\n",
       "    }\n",
       "\n",
       "    .dataframe tbody tr th {\n",
       "        vertical-align: top;\n",
       "    }\n",
       "\n",
       "    .dataframe thead th {\n",
       "        text-align: right;\n",
       "    }\n",
       "</style>\n",
       "<table border=\"1\" class=\"dataframe\">\n",
       "  <thead>\n",
       "    <tr style=\"text-align: right;\">\n",
       "      <th></th>\n",
       "      <th>old_name</th>\n",
       "      <th>age</th>\n",
       "      <th>gender</th>\n",
       "      <th>date-of-birth</th>\n",
       "      <th>phone_no</th>\n",
       "      <th>city</th>\n",
       "      <th>email</th>\n",
       "      <th>language</th>\n",
       "      <th>marks</th>\n",
       "      <th>salary</th>\n",
       "    </tr>\n",
       "  </thead>\n",
       "  <tbody>\n",
       "    <tr>\n",
       "      <th>0</th>\n",
       "      <td>max</td>\n",
       "      <td>12</td>\n",
       "      <td>M</td>\n",
       "      <td>22-9-2012</td>\n",
       "      <td>89346229</td>\n",
       "      <td>jaipur</td>\n",
       "      <td>max@gmail.com</td>\n",
       "      <td>english</td>\n",
       "      <td>55</td>\n",
       "      <td>1000.0</td>\n",
       "    </tr>\n",
       "    <tr>\n",
       "      <th>1</th>\n",
       "      <td>sam</td>\n",
       "      <td>56</td>\n",
       "      <td>M</td>\n",
       "      <td>12-02-1968</td>\n",
       "      <td>63256228</td>\n",
       "      <td>agra</td>\n",
       "      <td>sam@gmail.com</td>\n",
       "      <td>french</td>\n",
       "      <td>12</td>\n",
       "      <td>50000.0</td>\n",
       "    </tr>\n",
       "    <tr>\n",
       "      <th>2</th>\n",
       "      <td>jeany</td>\n",
       "      <td>32</td>\n",
       "      <td>F</td>\n",
       "      <td>16-10-1992</td>\n",
       "      <td>8723415163</td>\n",
       "      <td>kanpur</td>\n",
       "      <td>jeany@gmail.com</td>\n",
       "      <td>hindi</td>\n",
       "      <td>89</td>\n",
       "      <td>NaN</td>\n",
       "    </tr>\n",
       "    <tr>\n",
       "      <th>3</th>\n",
       "      <td>rohit</td>\n",
       "      <td>40</td>\n",
       "      <td>M</td>\n",
       "      <td>31-03-1984</td>\n",
       "      <td>934782562</td>\n",
       "      <td>hydrabad</td>\n",
       "      <td>rohit@gmail.com</td>\n",
       "      <td>hindi</td>\n",
       "      <td>63</td>\n",
       "      <td>28000.0</td>\n",
       "    </tr>\n",
       "  </tbody>\n",
       "</table>\n",
       "</div>"
      ],
      "text/plain": [
       "  old_name  age gender date-of-birth    phone_no      city            email  \\\n",
       "0      max   12      M     22-9-2012    89346229    jaipur    max@gmail.com   \n",
       "1      sam   56      M    12-02-1968    63256228      agra    sam@gmail.com   \n",
       "2    jeany   32      F    16-10-1992  8723415163    kanpur  jeany@gmail.com   \n",
       "3    rohit   40      M    31-03-1984   934782562  hydrabad  rohit@gmail.com   \n",
       "\n",
       "  language  marks   salary  \n",
       "0  english     55   1000.0  \n",
       "1   french     12  50000.0  \n",
       "2    hindi     89      NaN  \n",
       "3    hindi     63  28000.0  "
      ]
     },
     "execution_count": 15,
     "metadata": {},
     "output_type": "execute_result"
    }
   ],
   "source": [
    "df"
   ]
  },
  {
   "cell_type": "markdown",
   "id": "43723b61",
   "metadata": {},
   "source": [
    "How can you drop the row with index 3 from the DataFrame df?"
   ]
  },
  {
   "cell_type": "code",
   "execution_count": 16,
   "id": "13766ba3",
   "metadata": {
    "scrolled": false
   },
   "outputs": [
    {
     "data": {
      "text/html": [
       "<div>\n",
       "<style scoped>\n",
       "    .dataframe tbody tr th:only-of-type {\n",
       "        vertical-align: middle;\n",
       "    }\n",
       "\n",
       "    .dataframe tbody tr th {\n",
       "        vertical-align: top;\n",
       "    }\n",
       "\n",
       "    .dataframe thead th {\n",
       "        text-align: right;\n",
       "    }\n",
       "</style>\n",
       "<table border=\"1\" class=\"dataframe\">\n",
       "  <thead>\n",
       "    <tr style=\"text-align: right;\">\n",
       "      <th></th>\n",
       "      <th>old_name</th>\n",
       "      <th>age</th>\n",
       "      <th>gender</th>\n",
       "      <th>date-of-birth</th>\n",
       "      <th>phone_no</th>\n",
       "      <th>city</th>\n",
       "      <th>email</th>\n",
       "      <th>language</th>\n",
       "      <th>marks</th>\n",
       "      <th>salary</th>\n",
       "    </tr>\n",
       "  </thead>\n",
       "  <tbody>\n",
       "    <tr>\n",
       "      <th>0</th>\n",
       "      <td>max</td>\n",
       "      <td>12</td>\n",
       "      <td>M</td>\n",
       "      <td>22-9-2012</td>\n",
       "      <td>89346229</td>\n",
       "      <td>jaipur</td>\n",
       "      <td>max@gmail.com</td>\n",
       "      <td>english</td>\n",
       "      <td>55</td>\n",
       "      <td>1000.0</td>\n",
       "    </tr>\n",
       "    <tr>\n",
       "      <th>1</th>\n",
       "      <td>sam</td>\n",
       "      <td>56</td>\n",
       "      <td>M</td>\n",
       "      <td>12-02-1968</td>\n",
       "      <td>63256228</td>\n",
       "      <td>agra</td>\n",
       "      <td>sam@gmail.com</td>\n",
       "      <td>french</td>\n",
       "      <td>12</td>\n",
       "      <td>50000.0</td>\n",
       "    </tr>\n",
       "    <tr>\n",
       "      <th>2</th>\n",
       "      <td>jeany</td>\n",
       "      <td>32</td>\n",
       "      <td>F</td>\n",
       "      <td>16-10-1992</td>\n",
       "      <td>8723415163</td>\n",
       "      <td>kanpur</td>\n",
       "      <td>jeany@gmail.com</td>\n",
       "      <td>hindi</td>\n",
       "      <td>89</td>\n",
       "      <td>NaN</td>\n",
       "    </tr>\n",
       "  </tbody>\n",
       "</table>\n",
       "</div>"
      ],
      "text/plain": [
       "  old_name  age gender date-of-birth    phone_no    city            email  \\\n",
       "0      max   12      M     22-9-2012    89346229  jaipur    max@gmail.com   \n",
       "1      sam   56      M    12-02-1968    63256228    agra    sam@gmail.com   \n",
       "2    jeany   32      F    16-10-1992  8723415163  kanpur  jeany@gmail.com   \n",
       "\n",
       "  language  marks   salary  \n",
       "0  english     55   1000.0  \n",
       "1   french     12  50000.0  \n",
       "2    hindi     89      NaN  "
      ]
     },
     "execution_count": 16,
     "metadata": {},
     "output_type": "execute_result"
    }
   ],
   "source": [
    "df.drop(3)"
   ]
  },
  {
   "cell_type": "code",
   "execution_count": 17,
   "id": "86e4b987",
   "metadata": {},
   "outputs": [
    {
     "data": {
      "text/html": [
       "<div>\n",
       "<style scoped>\n",
       "    .dataframe tbody tr th:only-of-type {\n",
       "        vertical-align: middle;\n",
       "    }\n",
       "\n",
       "    .dataframe tbody tr th {\n",
       "        vertical-align: top;\n",
       "    }\n",
       "\n",
       "    .dataframe thead th {\n",
       "        text-align: right;\n",
       "    }\n",
       "</style>\n",
       "<table border=\"1\" class=\"dataframe\">\n",
       "  <thead>\n",
       "    <tr style=\"text-align: right;\">\n",
       "      <th></th>\n",
       "      <th>old_name</th>\n",
       "      <th>age</th>\n",
       "      <th>gender</th>\n",
       "      <th>date-of-birth</th>\n",
       "      <th>phone_no</th>\n",
       "      <th>city</th>\n",
       "      <th>email</th>\n",
       "      <th>language</th>\n",
       "      <th>marks</th>\n",
       "      <th>salary</th>\n",
       "    </tr>\n",
       "  </thead>\n",
       "  <tbody>\n",
       "    <tr>\n",
       "      <th>0</th>\n",
       "      <td>max</td>\n",
       "      <td>12</td>\n",
       "      <td>M</td>\n",
       "      <td>22-9-2012</td>\n",
       "      <td>89346229</td>\n",
       "      <td>jaipur</td>\n",
       "      <td>max@gmail.com</td>\n",
       "      <td>english</td>\n",
       "      <td>55</td>\n",
       "      <td>1000.0</td>\n",
       "    </tr>\n",
       "    <tr>\n",
       "      <th>1</th>\n",
       "      <td>sam</td>\n",
       "      <td>56</td>\n",
       "      <td>M</td>\n",
       "      <td>12-02-1968</td>\n",
       "      <td>63256228</td>\n",
       "      <td>agra</td>\n",
       "      <td>sam@gmail.com</td>\n",
       "      <td>french</td>\n",
       "      <td>12</td>\n",
       "      <td>50000.0</td>\n",
       "    </tr>\n",
       "    <tr>\n",
       "      <th>2</th>\n",
       "      <td>jeany</td>\n",
       "      <td>32</td>\n",
       "      <td>F</td>\n",
       "      <td>16-10-1992</td>\n",
       "      <td>8723415163</td>\n",
       "      <td>kanpur</td>\n",
       "      <td>jeany@gmail.com</td>\n",
       "      <td>hindi</td>\n",
       "      <td>89</td>\n",
       "      <td>NaN</td>\n",
       "    </tr>\n",
       "    <tr>\n",
       "      <th>3</th>\n",
       "      <td>rohit</td>\n",
       "      <td>40</td>\n",
       "      <td>M</td>\n",
       "      <td>31-03-1984</td>\n",
       "      <td>934782562</td>\n",
       "      <td>hydrabad</td>\n",
       "      <td>rohit@gmail.com</td>\n",
       "      <td>hindi</td>\n",
       "      <td>63</td>\n",
       "      <td>28000.0</td>\n",
       "    </tr>\n",
       "  </tbody>\n",
       "</table>\n",
       "</div>"
      ],
      "text/plain": [
       "  old_name  age gender date-of-birth    phone_no      city            email  \\\n",
       "0      max   12      M     22-9-2012    89346229    jaipur    max@gmail.com   \n",
       "1      sam   56      M    12-02-1968    63256228      agra    sam@gmail.com   \n",
       "2    jeany   32      F    16-10-1992  8723415163    kanpur  jeany@gmail.com   \n",
       "3    rohit   40      M    31-03-1984   934782562  hydrabad  rohit@gmail.com   \n",
       "\n",
       "  language  marks   salary  \n",
       "0  english     55   1000.0  \n",
       "1   french     12  50000.0  \n",
       "2    hindi     89      NaN  \n",
       "3    hindi     63  28000.0  "
      ]
     },
     "execution_count": 17,
     "metadata": {},
     "output_type": "execute_result"
    }
   ],
   "source": [
    "df"
   ]
  },
  {
   "cell_type": "markdown",
   "id": "736abca0",
   "metadata": {},
   "source": [
    "How do you rename the column \"old_name\" to \"new_name\"?"
   ]
  },
  {
   "cell_type": "code",
   "execution_count": 18,
   "id": "84962b6b",
   "metadata": {},
   "outputs": [
    {
     "data": {
      "text/html": [
       "<div>\n",
       "<style scoped>\n",
       "    .dataframe tbody tr th:only-of-type {\n",
       "        vertical-align: middle;\n",
       "    }\n",
       "\n",
       "    .dataframe tbody tr th {\n",
       "        vertical-align: top;\n",
       "    }\n",
       "\n",
       "    .dataframe thead th {\n",
       "        text-align: right;\n",
       "    }\n",
       "</style>\n",
       "<table border=\"1\" class=\"dataframe\">\n",
       "  <thead>\n",
       "    <tr style=\"text-align: right;\">\n",
       "      <th></th>\n",
       "      <th>new_name</th>\n",
       "      <th>age</th>\n",
       "      <th>gender</th>\n",
       "      <th>date-of-birth</th>\n",
       "      <th>phone_no</th>\n",
       "      <th>city</th>\n",
       "      <th>email</th>\n",
       "      <th>language</th>\n",
       "      <th>marks</th>\n",
       "      <th>salary</th>\n",
       "    </tr>\n",
       "  </thead>\n",
       "  <tbody>\n",
       "    <tr>\n",
       "      <th>0</th>\n",
       "      <td>max</td>\n",
       "      <td>12</td>\n",
       "      <td>M</td>\n",
       "      <td>22-9-2012</td>\n",
       "      <td>89346229</td>\n",
       "      <td>jaipur</td>\n",
       "      <td>max@gmail.com</td>\n",
       "      <td>english</td>\n",
       "      <td>55</td>\n",
       "      <td>1000.0</td>\n",
       "    </tr>\n",
       "    <tr>\n",
       "      <th>1</th>\n",
       "      <td>sam</td>\n",
       "      <td>56</td>\n",
       "      <td>M</td>\n",
       "      <td>12-02-1968</td>\n",
       "      <td>63256228</td>\n",
       "      <td>agra</td>\n",
       "      <td>sam@gmail.com</td>\n",
       "      <td>french</td>\n",
       "      <td>12</td>\n",
       "      <td>50000.0</td>\n",
       "    </tr>\n",
       "    <tr>\n",
       "      <th>2</th>\n",
       "      <td>jeany</td>\n",
       "      <td>32</td>\n",
       "      <td>F</td>\n",
       "      <td>16-10-1992</td>\n",
       "      <td>8723415163</td>\n",
       "      <td>kanpur</td>\n",
       "      <td>jeany@gmail.com</td>\n",
       "      <td>hindi</td>\n",
       "      <td>89</td>\n",
       "      <td>NaN</td>\n",
       "    </tr>\n",
       "    <tr>\n",
       "      <th>3</th>\n",
       "      <td>rohit</td>\n",
       "      <td>40</td>\n",
       "      <td>M</td>\n",
       "      <td>31-03-1984</td>\n",
       "      <td>934782562</td>\n",
       "      <td>hydrabad</td>\n",
       "      <td>rohit@gmail.com</td>\n",
       "      <td>hindi</td>\n",
       "      <td>63</td>\n",
       "      <td>28000.0</td>\n",
       "    </tr>\n",
       "  </tbody>\n",
       "</table>\n",
       "</div>"
      ],
      "text/plain": [
       "  new_name  age gender date-of-birth    phone_no      city            email  \\\n",
       "0      max   12      M     22-9-2012    89346229    jaipur    max@gmail.com   \n",
       "1      sam   56      M    12-02-1968    63256228      agra    sam@gmail.com   \n",
       "2    jeany   32      F    16-10-1992  8723415163    kanpur  jeany@gmail.com   \n",
       "3    rohit   40      M    31-03-1984   934782562  hydrabad  rohit@gmail.com   \n",
       "\n",
       "  language  marks   salary  \n",
       "0  english     55   1000.0  \n",
       "1   french     12  50000.0  \n",
       "2    hindi     89      NaN  \n",
       "3    hindi     63  28000.0  "
      ]
     },
     "execution_count": 18,
     "metadata": {},
     "output_type": "execute_result"
    }
   ],
   "source": [
    "df.rename(columns={'old_name':'new_name'}) # a copy is created"
   ]
  },
  {
   "cell_type": "code",
   "execution_count": 19,
   "id": "9f1f18cb",
   "metadata": {},
   "outputs": [
    {
     "data": {
      "text/html": [
       "<div>\n",
       "<style scoped>\n",
       "    .dataframe tbody tr th:only-of-type {\n",
       "        vertical-align: middle;\n",
       "    }\n",
       "\n",
       "    .dataframe tbody tr th {\n",
       "        vertical-align: top;\n",
       "    }\n",
       "\n",
       "    .dataframe thead th {\n",
       "        text-align: right;\n",
       "    }\n",
       "</style>\n",
       "<table border=\"1\" class=\"dataframe\">\n",
       "  <thead>\n",
       "    <tr style=\"text-align: right;\">\n",
       "      <th></th>\n",
       "      <th>old_name</th>\n",
       "      <th>age</th>\n",
       "      <th>gender</th>\n",
       "      <th>date-of-birth</th>\n",
       "      <th>phone_no</th>\n",
       "      <th>city</th>\n",
       "      <th>email</th>\n",
       "      <th>language</th>\n",
       "      <th>marks</th>\n",
       "      <th>salary</th>\n",
       "    </tr>\n",
       "  </thead>\n",
       "  <tbody>\n",
       "    <tr>\n",
       "      <th>0</th>\n",
       "      <td>max</td>\n",
       "      <td>12</td>\n",
       "      <td>M</td>\n",
       "      <td>22-9-2012</td>\n",
       "      <td>89346229</td>\n",
       "      <td>jaipur</td>\n",
       "      <td>max@gmail.com</td>\n",
       "      <td>english</td>\n",
       "      <td>55</td>\n",
       "      <td>1000.0</td>\n",
       "    </tr>\n",
       "    <tr>\n",
       "      <th>1</th>\n",
       "      <td>sam</td>\n",
       "      <td>56</td>\n",
       "      <td>M</td>\n",
       "      <td>12-02-1968</td>\n",
       "      <td>63256228</td>\n",
       "      <td>agra</td>\n",
       "      <td>sam@gmail.com</td>\n",
       "      <td>french</td>\n",
       "      <td>12</td>\n",
       "      <td>50000.0</td>\n",
       "    </tr>\n",
       "    <tr>\n",
       "      <th>2</th>\n",
       "      <td>jeany</td>\n",
       "      <td>32</td>\n",
       "      <td>F</td>\n",
       "      <td>16-10-1992</td>\n",
       "      <td>8723415163</td>\n",
       "      <td>kanpur</td>\n",
       "      <td>jeany@gmail.com</td>\n",
       "      <td>hindi</td>\n",
       "      <td>89</td>\n",
       "      <td>NaN</td>\n",
       "    </tr>\n",
       "    <tr>\n",
       "      <th>3</th>\n",
       "      <td>rohit</td>\n",
       "      <td>40</td>\n",
       "      <td>M</td>\n",
       "      <td>31-03-1984</td>\n",
       "      <td>934782562</td>\n",
       "      <td>hydrabad</td>\n",
       "      <td>rohit@gmail.com</td>\n",
       "      <td>hindi</td>\n",
       "      <td>63</td>\n",
       "      <td>28000.0</td>\n",
       "    </tr>\n",
       "  </tbody>\n",
       "</table>\n",
       "</div>"
      ],
      "text/plain": [
       "  old_name  age gender date-of-birth    phone_no      city            email  \\\n",
       "0      max   12      M     22-9-2012    89346229    jaipur    max@gmail.com   \n",
       "1      sam   56      M    12-02-1968    63256228      agra    sam@gmail.com   \n",
       "2    jeany   32      F    16-10-1992  8723415163    kanpur  jeany@gmail.com   \n",
       "3    rohit   40      M    31-03-1984   934782562  hydrabad  rohit@gmail.com   \n",
       "\n",
       "  language  marks   salary  \n",
       "0  english     55   1000.0  \n",
       "1   french     12  50000.0  \n",
       "2    hindi     89      NaN  \n",
       "3    hindi     63  28000.0  "
      ]
     },
     "execution_count": 19,
     "metadata": {},
     "output_type": "execute_result"
    }
   ],
   "source": [
    "df # original dataframe remains the same"
   ]
  },
  {
   "cell_type": "code",
   "execution_count": 20,
   "id": "1c8d27de",
   "metadata": {},
   "outputs": [],
   "source": [
    "df.rename(columns={'old_name':'new_name'},inplace=True) # modified directly, without the need of creating a copy"
   ]
  },
  {
   "cell_type": "code",
   "execution_count": 21,
   "id": "1ce026f3",
   "metadata": {},
   "outputs": [
    {
     "data": {
      "text/html": [
       "<div>\n",
       "<style scoped>\n",
       "    .dataframe tbody tr th:only-of-type {\n",
       "        vertical-align: middle;\n",
       "    }\n",
       "\n",
       "    .dataframe tbody tr th {\n",
       "        vertical-align: top;\n",
       "    }\n",
       "\n",
       "    .dataframe thead th {\n",
       "        text-align: right;\n",
       "    }\n",
       "</style>\n",
       "<table border=\"1\" class=\"dataframe\">\n",
       "  <thead>\n",
       "    <tr style=\"text-align: right;\">\n",
       "      <th></th>\n",
       "      <th>new_name</th>\n",
       "      <th>age</th>\n",
       "      <th>gender</th>\n",
       "      <th>date-of-birth</th>\n",
       "      <th>phone_no</th>\n",
       "      <th>city</th>\n",
       "      <th>email</th>\n",
       "      <th>language</th>\n",
       "      <th>marks</th>\n",
       "      <th>salary</th>\n",
       "    </tr>\n",
       "  </thead>\n",
       "  <tbody>\n",
       "    <tr>\n",
       "      <th>0</th>\n",
       "      <td>max</td>\n",
       "      <td>12</td>\n",
       "      <td>M</td>\n",
       "      <td>22-9-2012</td>\n",
       "      <td>89346229</td>\n",
       "      <td>jaipur</td>\n",
       "      <td>max@gmail.com</td>\n",
       "      <td>english</td>\n",
       "      <td>55</td>\n",
       "      <td>1000.0</td>\n",
       "    </tr>\n",
       "    <tr>\n",
       "      <th>1</th>\n",
       "      <td>sam</td>\n",
       "      <td>56</td>\n",
       "      <td>M</td>\n",
       "      <td>12-02-1968</td>\n",
       "      <td>63256228</td>\n",
       "      <td>agra</td>\n",
       "      <td>sam@gmail.com</td>\n",
       "      <td>french</td>\n",
       "      <td>12</td>\n",
       "      <td>50000.0</td>\n",
       "    </tr>\n",
       "    <tr>\n",
       "      <th>2</th>\n",
       "      <td>jeany</td>\n",
       "      <td>32</td>\n",
       "      <td>F</td>\n",
       "      <td>16-10-1992</td>\n",
       "      <td>8723415163</td>\n",
       "      <td>kanpur</td>\n",
       "      <td>jeany@gmail.com</td>\n",
       "      <td>hindi</td>\n",
       "      <td>89</td>\n",
       "      <td>NaN</td>\n",
       "    </tr>\n",
       "    <tr>\n",
       "      <th>3</th>\n",
       "      <td>rohit</td>\n",
       "      <td>40</td>\n",
       "      <td>M</td>\n",
       "      <td>31-03-1984</td>\n",
       "      <td>934782562</td>\n",
       "      <td>hydrabad</td>\n",
       "      <td>rohit@gmail.com</td>\n",
       "      <td>hindi</td>\n",
       "      <td>63</td>\n",
       "      <td>28000.0</td>\n",
       "    </tr>\n",
       "  </tbody>\n",
       "</table>\n",
       "</div>"
      ],
      "text/plain": [
       "  new_name  age gender date-of-birth    phone_no      city            email  \\\n",
       "0      max   12      M     22-9-2012    89346229    jaipur    max@gmail.com   \n",
       "1      sam   56      M    12-02-1968    63256228      agra    sam@gmail.com   \n",
       "2    jeany   32      F    16-10-1992  8723415163    kanpur  jeany@gmail.com   \n",
       "3    rohit   40      M    31-03-1984   934782562  hydrabad  rohit@gmail.com   \n",
       "\n",
       "  language  marks   salary  \n",
       "0  english     55   1000.0  \n",
       "1   french     12  50000.0  \n",
       "2    hindi     89      NaN  \n",
       "3    hindi     63  28000.0  "
      ]
     },
     "execution_count": 21,
     "metadata": {},
     "output_type": "execute_result"
    }
   ],
   "source": [
    "df"
   ]
  },
  {
   "cell_type": "markdown",
   "id": "eb1a20a2",
   "metadata": {},
   "source": [
    "How do you change the data type of the column \"salary\" from int to float?"
   ]
  },
  {
   "cell_type": "code",
   "execution_count": 22,
   "id": "69925e50",
   "metadata": {},
   "outputs": [
    {
     "name": "stdout",
     "output_type": "stream",
     "text": [
      "new_name          object\n",
      "age                int64\n",
      "gender            object\n",
      "date-of-birth     object\n",
      "phone_no          object\n",
      "city              object\n",
      "email             object\n",
      "language          object\n",
      "marks              int64\n",
      "salary           float64\n",
      "dtype: object\n"
     ]
    }
   ],
   "source": [
    "data_type = {\n",
    "    \"salary\":float\n",
    "}\n",
    "df = df.astype(data_type)\n",
    "print(df.dtypes)"
   ]
  },
  {
   "cell_type": "markdown",
   "id": "25a4b8f1",
   "metadata": {},
   "source": [
    "What method would you use to drop any rows that contain NaN values?"
   ]
  },
  {
   "cell_type": "code",
   "execution_count": 23,
   "id": "c900cac4",
   "metadata": {},
   "outputs": [
    {
     "data": {
      "text/html": [
       "<div>\n",
       "<style scoped>\n",
       "    .dataframe tbody tr th:only-of-type {\n",
       "        vertical-align: middle;\n",
       "    }\n",
       "\n",
       "    .dataframe tbody tr th {\n",
       "        vertical-align: top;\n",
       "    }\n",
       "\n",
       "    .dataframe thead th {\n",
       "        text-align: right;\n",
       "    }\n",
       "</style>\n",
       "<table border=\"1\" class=\"dataframe\">\n",
       "  <thead>\n",
       "    <tr style=\"text-align: right;\">\n",
       "      <th></th>\n",
       "      <th>new_name</th>\n",
       "      <th>age</th>\n",
       "      <th>gender</th>\n",
       "      <th>date-of-birth</th>\n",
       "      <th>phone_no</th>\n",
       "      <th>city</th>\n",
       "      <th>email</th>\n",
       "      <th>language</th>\n",
       "      <th>marks</th>\n",
       "      <th>salary</th>\n",
       "    </tr>\n",
       "  </thead>\n",
       "  <tbody>\n",
       "    <tr>\n",
       "      <th>0</th>\n",
       "      <td>max</td>\n",
       "      <td>12</td>\n",
       "      <td>M</td>\n",
       "      <td>22-9-2012</td>\n",
       "      <td>89346229</td>\n",
       "      <td>jaipur</td>\n",
       "      <td>max@gmail.com</td>\n",
       "      <td>english</td>\n",
       "      <td>55</td>\n",
       "      <td>1000.0</td>\n",
       "    </tr>\n",
       "    <tr>\n",
       "      <th>1</th>\n",
       "      <td>sam</td>\n",
       "      <td>56</td>\n",
       "      <td>M</td>\n",
       "      <td>12-02-1968</td>\n",
       "      <td>63256228</td>\n",
       "      <td>agra</td>\n",
       "      <td>sam@gmail.com</td>\n",
       "      <td>french</td>\n",
       "      <td>12</td>\n",
       "      <td>50000.0</td>\n",
       "    </tr>\n",
       "    <tr>\n",
       "      <th>3</th>\n",
       "      <td>rohit</td>\n",
       "      <td>40</td>\n",
       "      <td>M</td>\n",
       "      <td>31-03-1984</td>\n",
       "      <td>934782562</td>\n",
       "      <td>hydrabad</td>\n",
       "      <td>rohit@gmail.com</td>\n",
       "      <td>hindi</td>\n",
       "      <td>63</td>\n",
       "      <td>28000.0</td>\n",
       "    </tr>\n",
       "  </tbody>\n",
       "</table>\n",
       "</div>"
      ],
      "text/plain": [
       "  new_name  age gender date-of-birth   phone_no      city            email  \\\n",
       "0      max   12      M     22-9-2012   89346229    jaipur    max@gmail.com   \n",
       "1      sam   56      M    12-02-1968   63256228      agra    sam@gmail.com   \n",
       "3    rohit   40      M    31-03-1984  934782562  hydrabad  rohit@gmail.com   \n",
       "\n",
       "  language  marks   salary  \n",
       "0  english     55   1000.0  \n",
       "1   french     12  50000.0  \n",
       "3    hindi     63  28000.0  "
      ]
     },
     "execution_count": 23,
     "metadata": {},
     "output_type": "execute_result"
    }
   ],
   "source": [
    "df.dropna()# a copy is created"
   ]
  },
  {
   "cell_type": "code",
   "execution_count": 24,
   "id": "200cff58",
   "metadata": {},
   "outputs": [
    {
     "data": {
      "text/html": [
       "<div>\n",
       "<style scoped>\n",
       "    .dataframe tbody tr th:only-of-type {\n",
       "        vertical-align: middle;\n",
       "    }\n",
       "\n",
       "    .dataframe tbody tr th {\n",
       "        vertical-align: top;\n",
       "    }\n",
       "\n",
       "    .dataframe thead th {\n",
       "        text-align: right;\n",
       "    }\n",
       "</style>\n",
       "<table border=\"1\" class=\"dataframe\">\n",
       "  <thead>\n",
       "    <tr style=\"text-align: right;\">\n",
       "      <th></th>\n",
       "      <th>new_name</th>\n",
       "      <th>age</th>\n",
       "      <th>gender</th>\n",
       "      <th>date-of-birth</th>\n",
       "      <th>phone_no</th>\n",
       "      <th>city</th>\n",
       "      <th>email</th>\n",
       "      <th>language</th>\n",
       "      <th>marks</th>\n",
       "      <th>salary</th>\n",
       "    </tr>\n",
       "  </thead>\n",
       "  <tbody>\n",
       "    <tr>\n",
       "      <th>0</th>\n",
       "      <td>max</td>\n",
       "      <td>12</td>\n",
       "      <td>M</td>\n",
       "      <td>22-9-2012</td>\n",
       "      <td>89346229</td>\n",
       "      <td>jaipur</td>\n",
       "      <td>max@gmail.com</td>\n",
       "      <td>english</td>\n",
       "      <td>55</td>\n",
       "      <td>1000.0</td>\n",
       "    </tr>\n",
       "    <tr>\n",
       "      <th>1</th>\n",
       "      <td>sam</td>\n",
       "      <td>56</td>\n",
       "      <td>M</td>\n",
       "      <td>12-02-1968</td>\n",
       "      <td>63256228</td>\n",
       "      <td>agra</td>\n",
       "      <td>sam@gmail.com</td>\n",
       "      <td>french</td>\n",
       "      <td>12</td>\n",
       "      <td>50000.0</td>\n",
       "    </tr>\n",
       "    <tr>\n",
       "      <th>2</th>\n",
       "      <td>jeany</td>\n",
       "      <td>32</td>\n",
       "      <td>F</td>\n",
       "      <td>16-10-1992</td>\n",
       "      <td>8723415163</td>\n",
       "      <td>kanpur</td>\n",
       "      <td>jeany@gmail.com</td>\n",
       "      <td>hindi</td>\n",
       "      <td>89</td>\n",
       "      <td>NaN</td>\n",
       "    </tr>\n",
       "    <tr>\n",
       "      <th>3</th>\n",
       "      <td>rohit</td>\n",
       "      <td>40</td>\n",
       "      <td>M</td>\n",
       "      <td>31-03-1984</td>\n",
       "      <td>934782562</td>\n",
       "      <td>hydrabad</td>\n",
       "      <td>rohit@gmail.com</td>\n",
       "      <td>hindi</td>\n",
       "      <td>63</td>\n",
       "      <td>28000.0</td>\n",
       "    </tr>\n",
       "  </tbody>\n",
       "</table>\n",
       "</div>"
      ],
      "text/plain": [
       "  new_name  age gender date-of-birth    phone_no      city            email  \\\n",
       "0      max   12      M     22-9-2012    89346229    jaipur    max@gmail.com   \n",
       "1      sam   56      M    12-02-1968    63256228      agra    sam@gmail.com   \n",
       "2    jeany   32      F    16-10-1992  8723415163    kanpur  jeany@gmail.com   \n",
       "3    rohit   40      M    31-03-1984   934782562  hydrabad  rohit@gmail.com   \n",
       "\n",
       "  language  marks   salary  \n",
       "0  english     55   1000.0  \n",
       "1   french     12  50000.0  \n",
       "2    hindi     89      NaN  \n",
       "3    hindi     63  28000.0  "
      ]
     },
     "execution_count": 24,
     "metadata": {},
     "output_type": "execute_result"
    }
   ],
   "source": [
    "df# original dataframe remains the same"
   ]
  },
  {
   "cell_type": "code",
   "execution_count": 25,
   "id": "6892408b",
   "metadata": {},
   "outputs": [],
   "source": [
    "df.dropna(inplace=True)# modified directly, without the need of creating a copy"
   ]
  },
  {
   "cell_type": "code",
   "execution_count": 27,
   "id": "3a70426c",
   "metadata": {},
   "outputs": [
    {
     "data": {
      "text/html": [
       "<div>\n",
       "<style scoped>\n",
       "    .dataframe tbody tr th:only-of-type {\n",
       "        vertical-align: middle;\n",
       "    }\n",
       "\n",
       "    .dataframe tbody tr th {\n",
       "        vertical-align: top;\n",
       "    }\n",
       "\n",
       "    .dataframe thead th {\n",
       "        text-align: right;\n",
       "    }\n",
       "</style>\n",
       "<table border=\"1\" class=\"dataframe\">\n",
       "  <thead>\n",
       "    <tr style=\"text-align: right;\">\n",
       "      <th></th>\n",
       "      <th>new_name</th>\n",
       "      <th>age</th>\n",
       "      <th>gender</th>\n",
       "      <th>date-of-birth</th>\n",
       "      <th>phone_no</th>\n",
       "      <th>city</th>\n",
       "      <th>email</th>\n",
       "      <th>language</th>\n",
       "      <th>marks</th>\n",
       "      <th>salary</th>\n",
       "    </tr>\n",
       "  </thead>\n",
       "  <tbody>\n",
       "    <tr>\n",
       "      <th>0</th>\n",
       "      <td>max</td>\n",
       "      <td>12</td>\n",
       "      <td>M</td>\n",
       "      <td>22-9-2012</td>\n",
       "      <td>89346229</td>\n",
       "      <td>jaipur</td>\n",
       "      <td>max@gmail.com</td>\n",
       "      <td>english</td>\n",
       "      <td>55</td>\n",
       "      <td>1000.0</td>\n",
       "    </tr>\n",
       "    <tr>\n",
       "      <th>1</th>\n",
       "      <td>sam</td>\n",
       "      <td>56</td>\n",
       "      <td>M</td>\n",
       "      <td>12-02-1968</td>\n",
       "      <td>63256228</td>\n",
       "      <td>agra</td>\n",
       "      <td>sam@gmail.com</td>\n",
       "      <td>french</td>\n",
       "      <td>12</td>\n",
       "      <td>50000.0</td>\n",
       "    </tr>\n",
       "    <tr>\n",
       "      <th>3</th>\n",
       "      <td>rohit</td>\n",
       "      <td>40</td>\n",
       "      <td>M</td>\n",
       "      <td>31-03-1984</td>\n",
       "      <td>934782562</td>\n",
       "      <td>hydrabad</td>\n",
       "      <td>rohit@gmail.com</td>\n",
       "      <td>hindi</td>\n",
       "      <td>63</td>\n",
       "      <td>28000.0</td>\n",
       "    </tr>\n",
       "  </tbody>\n",
       "</table>\n",
       "</div>"
      ],
      "text/plain": [
       "  new_name  age gender date-of-birth   phone_no      city            email  \\\n",
       "0      max   12      M     22-9-2012   89346229    jaipur    max@gmail.com   \n",
       "1      sam   56      M    12-02-1968   63256228      agra    sam@gmail.com   \n",
       "3    rohit   40      M    31-03-1984  934782562  hydrabad  rohit@gmail.com   \n",
       "\n",
       "  language  marks   salary  \n",
       "0  english     55   1000.0  \n",
       "1   french     12  50000.0  \n",
       "3    hindi     63  28000.0  "
      ]
     },
     "execution_count": 27,
     "metadata": {},
     "output_type": "execute_result"
    }
   ],
   "source": [
    "df"
   ]
  },
  {
   "cell_type": "code",
   "execution_count": 30,
   "id": "5f3ae505",
   "metadata": {},
   "outputs": [
    {
     "data": {
      "text/html": [
       "<div>\n",
       "<style scoped>\n",
       "    .dataframe tbody tr th:only-of-type {\n",
       "        vertical-align: middle;\n",
       "    }\n",
       "\n",
       "    .dataframe tbody tr th {\n",
       "        vertical-align: top;\n",
       "    }\n",
       "\n",
       "    .dataframe thead th {\n",
       "        text-align: right;\n",
       "    }\n",
       "</style>\n",
       "<table border=\"1\" class=\"dataframe\">\n",
       "  <thead>\n",
       "    <tr style=\"text-align: right;\">\n",
       "      <th></th>\n",
       "      <th>new_name</th>\n",
       "      <th>gender</th>\n",
       "      <th>date-of-birth</th>\n",
       "      <th>phone_no</th>\n",
       "      <th>city</th>\n",
       "      <th>email</th>\n",
       "      <th>language</th>\n",
       "      <th>marks</th>\n",
       "      <th>salary</th>\n",
       "    </tr>\n",
       "  </thead>\n",
       "  <tbody>\n",
       "    <tr>\n",
       "      <th>0</th>\n",
       "      <td>max</td>\n",
       "      <td>M</td>\n",
       "      <td>22-9-2012</td>\n",
       "      <td>89346229</td>\n",
       "      <td>jaipur</td>\n",
       "      <td>max@gmail.com</td>\n",
       "      <td>english</td>\n",
       "      <td>55</td>\n",
       "      <td>1000.0</td>\n",
       "    </tr>\n",
       "    <tr>\n",
       "      <th>1</th>\n",
       "      <td>sam</td>\n",
       "      <td>M</td>\n",
       "      <td>12-02-1968</td>\n",
       "      <td>63256228</td>\n",
       "      <td>agra</td>\n",
       "      <td>sam@gmail.com</td>\n",
       "      <td>french</td>\n",
       "      <td>12</td>\n",
       "      <td>50000.0</td>\n",
       "    </tr>\n",
       "    <tr>\n",
       "      <th>3</th>\n",
       "      <td>rohit</td>\n",
       "      <td>M</td>\n",
       "      <td>31-03-1984</td>\n",
       "      <td>934782562</td>\n",
       "      <td>hydrabad</td>\n",
       "      <td>rohit@gmail.com</td>\n",
       "      <td>hindi</td>\n",
       "      <td>63</td>\n",
       "      <td>28000.0</td>\n",
       "    </tr>\n",
       "  </tbody>\n",
       "</table>\n",
       "</div>"
      ],
      "text/plain": [
       "  new_name gender date-of-birth   phone_no      city            email  \\\n",
       "0      max      M     22-9-2012   89346229    jaipur    max@gmail.com   \n",
       "1      sam      M    12-02-1968   63256228      agra    sam@gmail.com   \n",
       "3    rohit      M    31-03-1984  934782562  hydrabad  rohit@gmail.com   \n",
       "\n",
       "  language  marks   salary  \n",
       "0  english     55   1000.0  \n",
       "1   french     12  50000.0  \n",
       "3    hindi     63  28000.0  "
      ]
     },
     "execution_count": 30,
     "metadata": {},
     "output_type": "execute_result"
    }
   ],
   "source": [
    "df.drop(\"age\",axis=1)"
   ]
  },
  {
   "cell_type": "code",
   "execution_count": null,
   "id": "d7502b37",
   "metadata": {},
   "outputs": [],
   "source": []
  }
 ],
 "metadata": {
  "kernelspec": {
   "display_name": "Python 3 (ipykernel)",
   "language": "python",
   "name": "python3"
  },
  "language_info": {
   "codemirror_mode": {
    "name": "ipython",
    "version": 3
   },
   "file_extension": ".py",
   "mimetype": "text/x-python",
   "name": "python",
   "nbconvert_exporter": "python",
   "pygments_lexer": "ipython3",
   "version": "3.11.5"
  }
 },
 "nbformat": 4,
 "nbformat_minor": 5
}
