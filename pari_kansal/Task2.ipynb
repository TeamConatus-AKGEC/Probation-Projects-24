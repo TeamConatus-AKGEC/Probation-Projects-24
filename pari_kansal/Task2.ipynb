{
 "cells": [
  {
   "cell_type": "code",
   "execution_count": 7,
   "metadata": {},
   "outputs": [
    {
     "name": "stdout",
     "output_type": "stream",
     "text": [
      "[ 1  2  3  4  5  6  7  8  9 10]\n",
      "[ 6  7  8  9 10 11 12 13 14 15]\n"
     ]
    }
   ],
   "source": [
    "#NUMPY\n",
    "#Ques1:Create a 1D numpy array of numbers from 1 to 10. What is the result of adding 5 to each element?\n",
    "import numpy as np\n",
    "list=[1,2,3,4,5,6,7,8,9,10]\n",
    "n=np.array(list)\n",
    "print(n)\n",
    "print(n+5)"
   ]
  },
  {
   "cell_type": "code",
   "execution_count": 2,
   "metadata": {},
   "outputs": [
    {
     "name": "stdout",
     "output_type": "stream",
     "text": [
      "3X3 Matrix:\n",
      "[[1. 0. 0.]\n",
      " [0. 1. 0.]\n",
      " [0. 0. 1.]]\n"
     ]
    }
   ],
   "source": [
    "#Ques2:Create a 3x3 identity matrix using numpy?\n",
    "import numpy as np;\n",
    "M=np.identity(3)\n",
    "print(\"3X3 Matrix:\")\n",
    "print(M)"
   ]
  },
  {
   "cell_type": "code",
   "execution_count": 12,
   "metadata": {},
   "outputs": [
    {
     "name": "stdout",
     "output_type": "stream",
     "text": [
      "[[1 2 3]\n",
      " [4 5 6]\n",
      " [7 8 9]]\n",
      "[[6]]\n"
     ]
    }
   ],
   "source": [
    "#Ques3:Given the array arr = np.array([[1, 2, 3], [4, 5, 6], [7, 8, 9]]), how would you access the element in the second row and third column?\n",
    "import numpy as np\n",
    "array = np.array([[1, 2, 3], [4, 5, 6], [7, 8, 9]])\n",
    "print(array)\n",
    "print(array[1:2,2:3])\n"
   ]
  },
  {
   "cell_type": "code",
   "execution_count": 13,
   "metadata": {},
   "outputs": [
    {
     "name": "stdout",
     "output_type": "stream",
     "text": [
      "[[[ 1  2  3]\n",
      "  [ 4  5  6]]\n",
      "\n",
      " [[ 7  8  9]\n",
      "  [10 11 12]]]\n"
     ]
    }
   ],
   "source": [
    "#Ques4:How can you reshape a 1D array of shape (12,) into a 3D array of shape (2, 2, 3)?\n",
    "import numpy as np\n",
    "arr = np.array([1, 2, 3, 4, 5, 6, 7, 8, 9, 10, 11, 12])\n",
    "newarr = arr.reshape(2,2,3)\n",
    "print(newarr)"
   ]
  },
  {
   "cell_type": "code",
   "execution_count": 15,
   "metadata": {},
   "outputs": [
    {
     "name": "stdout",
     "output_type": "stream",
     "text": [
      "2 4 6\n"
     ]
    }
   ],
   "source": [
    "#Ques5:How can you create a new array that contains only the even numbers from the array arr = np.array([1, 2, 3, 4, 5, 6])?\n",
    "import numpy as np\n",
    "arr = np.array([1, 2, 3, 4, 5, 6])\n",
    "print(arr[1],arr[3],arr[5])\n"
   ]
  },
  {
   "cell_type": "code",
   "execution_count": 16,
   "metadata": {},
   "outputs": [
    {
     "name": "stdout",
     "output_type": "stream",
     "text": [
      "  Name  Age\n",
      "0    A   10\n",
      "1    B   13\n",
      "2    C   12\n",
      "3    D   15\n",
      "4    E    9\n",
      "5    F   16\n",
      "6    G   12\n",
      "7    H   10\n",
      "8    I    8\n",
      "9    J   17\n"
     ]
    }
   ],
   "source": [
    "#PANDAS\n",
    "#Ques1:Create a Dictionary with 10 key value pairs. Now convert this Dictionary to Dataframe using Pandas.\n",
    "import pandas as pd\n",
    "dict = {\"Name\":['A','B','C','D','E','F','G','H','I','J'],\"Age\":[10,13,12,15,9,16,12,10,8,17]}\n",
    "df = pd.DataFrame.from_dict(dict)\n",
    "print(df)"
   ]
  },
  {
   "cell_type": "code",
   "execution_count": 21,
   "metadata": {},
   "outputs": [
    {
     "name": "stdout",
     "output_type": "stream",
     "text": [
      "   Name  Age University\n",
      "1  abcd   23        AKG\n",
      "2  efgh   21       ABES\n",
      "3  ijkl   22         DU\n",
      "4  mnop   21        BHU\n",
      "   Name  Age University\n",
      "1  abcd   23        AKG\n",
      "2  efgh   21       ABES\n",
      "4  mnop   21        BHU\n"
     ]
    }
   ],
   "source": [
    "#Ques2:How can you drop the row with index 3 from the DataFrame df?\n",
    "import pandas as pd\n",
    "details = {\n",
    "    'Name': ['abcd', 'efgh', 'ijkl', 'mnop'],\n",
    "    'Age': [23, 21, 22, 21],\n",
    "    'University': ['AKG', 'ABES', 'DU', 'BHU'],\n",
    "}\n",
    "df = pd.DataFrame(details, columns=['Name', 'Age', 'University'],\n",
    "                  index=['1', '2', '3', '4'])\n",
    "print(df)\n",
    "new_df=df.drop('3')\n",
    "print(new_df)"
   ]
  },
  {
   "cell_type": "code",
   "execution_count": 22,
   "metadata": {},
   "outputs": [
    {
     "name": "stdout",
     "output_type": "stream",
     "text": [
      "  new_name  roll_no\n",
      "0        A        4\n",
      "1        B        5\n",
      "2        C        6\n"
     ]
    }
   ],
   "source": [
    "#Ques3:How do you rename the column \"old_name\" to \"new_name\"?\n",
    "import pandas as pd\n",
    "data = {'old_name': ['A','B','C'], 'roll_no': [4, 5, 6]}\n",
    "df = pd.DataFrame(data)\n",
    "df.columns = ['new_name', 'roll_no']\n",
    "print(df)"
   ]
  },
  {
   "cell_type": "code",
   "execution_count": 34,
   "metadata": {},
   "outputs": [
    {
     "name": "stdout",
     "output_type": "stream",
     "text": [
      "       0\n",
      "1  34000\n",
      "2  45000\n",
      "3  67000\n",
      "4  28000\n"
     ]
    },
    {
     "data": {
      "text/html": [
       "<div>\n",
       "<style scoped>\n",
       "    .dataframe tbody tr th:only-of-type {\n",
       "        vertical-align: middle;\n",
       "    }\n",
       "\n",
       "    .dataframe tbody tr th {\n",
       "        vertical-align: top;\n",
       "    }\n",
       "\n",
       "    .dataframe thead th {\n",
       "        text-align: right;\n",
       "    }\n",
       "</style>\n",
       "<table border=\"1\" class=\"dataframe\">\n",
       "  <thead>\n",
       "    <tr style=\"text-align: right;\">\n",
       "      <th></th>\n",
       "      <th>0</th>\n",
       "    </tr>\n",
       "  </thead>\n",
       "  <tbody>\n",
       "    <tr>\n",
       "      <th>1</th>\n",
       "      <td>34000.0</td>\n",
       "    </tr>\n",
       "    <tr>\n",
       "      <th>2</th>\n",
       "      <td>45000.0</td>\n",
       "    </tr>\n",
       "    <tr>\n",
       "      <th>3</th>\n",
       "      <td>67000.0</td>\n",
       "    </tr>\n",
       "    <tr>\n",
       "      <th>4</th>\n",
       "      <td>28000.0</td>\n",
       "    </tr>\n",
       "  </tbody>\n",
       "</table>\n",
       "</div>"
      ],
      "text/plain": [
       "         0\n",
       "1  34000.0\n",
       "2  45000.0\n",
       "3  67000.0\n",
       "4  28000.0"
      ]
     },
     "execution_count": 34,
     "metadata": {},
     "output_type": "execute_result"
    }
   ],
   "source": [
    "#Ques4:How do you change the data type of the column \"salary\" from int to float?\n",
    "import pandas as pd\n",
    "data=[34000,45000,67000,28000]\n",
    "df=pd.DataFrame(data,index=[1,2,3,4])\n",
    "print(df)\n",
    "df.astype(float)\n",
    "\n"
   ]
  },
  {
   "cell_type": "code",
   "execution_count": 38,
   "metadata": {},
   "outputs": [
    {
     "name": "stdout",
     "output_type": "stream",
     "text": [
      "     A    B\n",
      "0  1.0  4.0\n",
      "1  2.0  NaN\n",
      "2  3.0  6.0\n",
      "3  NaN  7.0\n",
      "<bound method DataFrame.dropna of      A    B\n",
      "0  1.0  4.0\n",
      "1  2.0  NaN\n",
      "2  3.0  6.0\n",
      "3  NaN  7.0>\n"
     ]
    }
   ],
   "source": [
    "#Ques5:What method would you use to drop any rows that contain NaN values?\n",
    "import pandas as pd\n",
    "df=pd.DataFrame({'A':[1,2,3,None],'B':[4,None,6,7]})\n",
    "print(df)\n",
    "new_df=df.dropna\n",
    "print(new_df)\n"
   ]
  },
  {
   "cell_type": "code",
   "execution_count": null,
   "metadata": {},
   "outputs": [],
   "source": []
  }
 ],
 "metadata": {
  "kernelspec": {
   "display_name": "Python 3",
   "language": "python",
   "name": "python3"
  },
  "language_info": {
   "codemirror_mode": {
    "name": "ipython",
    "version": 3
   },
   "file_extension": ".py",
   "mimetype": "text/x-python",
   "name": "python",
   "nbconvert_exporter": "python",
   "pygments_lexer": "ipython3",
   "version": "3.13.0"
  }
 },
 "nbformat": 4,
 "nbformat_minor": 2
}
