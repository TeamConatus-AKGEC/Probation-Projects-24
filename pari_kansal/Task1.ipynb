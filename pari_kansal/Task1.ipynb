{
 "cells": [
  {
   "cell_type": "code",
   "execution_count": 1,
   "metadata": {},
   "outputs": [
    {
     "name": "stdout",
     "output_type": "stream",
     "text": [
      "Your choice:  Rock\n",
      "Computer choice:  Scissors\n",
      "You win!\n"
     ]
    }
   ],
   "source": [
    "import random\n",
    "options = [\"Rock\", \"Paper\", \"Scissors\"]  \n",
    "user = input(\"Choose Rock, Paper, or Scissors: \")\n",
    "computer = random.choice(options)\n",
    "print(\"Your choice: \", user)\n",
    "print(\"Computer choice: \", computer)\n",
    "if user == computer :\n",
    "    print(\"It's a tie!\")\n",
    "elif user == \"Rock\" and computer == \"Scissors\":\n",
    "    print(\"You win!\")\n",
    "elif user == \"Paper\" and computer == \"Rock\":\n",
    "    print(\"You win!\")\n",
    "elif user == \"Scissors\" and computer == \"Paper\":\n",
    "     print(\"You win!\")\n",
    "else:\n",
    " print(\"Computer wins!\")\n"
   ]
  },
  {
   "cell_type": "code",
   "execution_count": null,
   "metadata": {},
   "outputs": [],
   "source": []
  }
 ],
 "metadata": {
  "kernelspec": {
   "display_name": "Python 3",
   "language": "python",
   "name": "python3"
  },
  "language_info": {
   "codemirror_mode": {
    "name": "ipython",
    "version": 3
   },
   "file_extension": ".py",
   "mimetype": "text/x-python",
   "name": "python",
   "nbconvert_exporter": "python",
   "pygments_lexer": "ipython3",
   "version": "3.13.0"
  }
 },
 "nbformat": 4,
 "nbformat_minor": 2
}
